{
 "cells": [
  {
   "cell_type": "code",
   "execution_count": 5,
   "id": "6c8b5eae",
   "metadata": {},
   "outputs": [
    {
     "name": "stderr",
     "output_type": "stream",
     "text": [
      "C:\\Anaconda3\\lib\\site-packages\\openpyxl\\worksheet\\header_footer.py:48: UserWarning: Cannot parse header or footer so it will be ignored\n",
      "  warn(\"\"\"Cannot parse header or footer so it will be ignored\"\"\")\n"
     ]
    }
   ],
   "source": [
    "import pandas as pd\n",
    "\n",
    "df = pd.read_excel (r'C:\\Users\\homingip2\\Desktop\\PJ1.xlsx')\n",
    "\n"
   ]
  },
  {
   "cell_type": "code",
   "execution_count": 2,
   "id": "345f376a",
   "metadata": {},
   "outputs": [],
   "source": [
    "import matplotlib.pyplot as plt"
   ]
  },
  {
   "cell_type": "code",
   "execution_count": 4,
   "id": "2257b776",
   "metadata": {},
   "outputs": [
    {
     "data": {
      "text/html": [
       "<div>\n",
       "<style scoped>\n",
       "    .dataframe tbody tr th:only-of-type {\n",
       "        vertical-align: middle;\n",
       "    }\n",
       "\n",
       "    .dataframe tbody tr th {\n",
       "        vertical-align: top;\n",
       "    }\n",
       "\n",
       "    .dataframe thead th {\n",
       "        text-align: right;\n",
       "    }\n",
       "</style>\n",
       "<table border=\"1\" class=\"dataframe\">\n",
       "  <thead>\n",
       "    <tr style=\"text-align: right;\">\n",
       "      <th></th>\n",
       "      <th>建立日期</th>\n",
       "      <th>時間</th>\n",
       "      <th>求助\\n途徑</th>\n",
       "      <th>來源網址</th>\n",
       "      <th>發現日期</th>\n",
       "      <th>時間\\n[約]</th>\n",
       "      <th>區域</th>\n",
       "      <th>地區</th>\n",
       "      <th>分區</th>\n",
       "      <th>街道 / 屋邨 / 建築</th>\n",
       "      <th>...</th>\n",
       "      <th>檢獲\\n遺書</th>\n",
       "      <th>精神\\n病患</th>\n",
       "      <th>情緒\\n病患</th>\n",
       "      <th>失蹤\\n記錄</th>\n",
       "      <th>原因\\n[1]</th>\n",
       "      <th>原因\\n[2]</th>\n",
       "      <th>原因\\n[3]</th>\n",
       "      <th>類別\\n[1]</th>\n",
       "      <th>類別\\n[2]</th>\n",
       "      <th>類別\\n[3]</th>\n",
       "    </tr>\n",
       "  </thead>\n",
       "  <tbody>\n",
       "    <tr>\n",
       "      <th>0</th>\n",
       "      <td>2022-04-30</td>\n",
       "      <td>09:37:00</td>\n",
       "      <td>有</td>\n",
       "      <td>http://siuyeo.ng/hkspd202204300830</td>\n",
       "      <td>2022-04-30</td>\n",
       "      <td>08:30:00</td>\n",
       "      <td>九龍</td>\n",
       "      <td>九龍城區</td>\n",
       "      <td>紅磡</td>\n",
       "      <td>紅鸞道38號</td>\n",
       "      <td>...</td>\n",
       "      <td>沒有</td>\n",
       "      <td>沒有</td>\n",
       "      <td>沒有</td>\n",
       "      <td>沒有</td>\n",
       "      <td>不詳</td>\n",
       "      <td>NaN</td>\n",
       "      <td>NaN</td>\n",
       "      <td>淹溺</td>\n",
       "      <td>NaN</td>\n",
       "      <td>NaN</td>\n",
       "    </tr>\n",
       "    <tr>\n",
       "      <th>1</th>\n",
       "      <td>2022-04-29</td>\n",
       "      <td>22:41:00</td>\n",
       "      <td>有</td>\n",
       "      <td>http://siuyeo.ng/hkspd202204291600</td>\n",
       "      <td>2022-04-29</td>\n",
       "      <td>16:00:00</td>\n",
       "      <td>新界</td>\n",
       "      <td>荃灣區</td>\n",
       "      <td>梨木樹</td>\n",
       "      <td>梨木樹邨</td>\n",
       "      <td>...</td>\n",
       "      <td>有</td>\n",
       "      <td>沒有</td>\n",
       "      <td>沒有</td>\n",
       "      <td>沒有</td>\n",
       "      <td>家庭</td>\n",
       "      <td>NaN</td>\n",
       "      <td>NaN</td>\n",
       "      <td>自縊</td>\n",
       "      <td>NaN</td>\n",
       "      <td>NaN</td>\n",
       "    </tr>\n",
       "    <tr>\n",
       "      <th>2</th>\n",
       "      <td>2022-04-28</td>\n",
       "      <td>14:46:00</td>\n",
       "      <td>有</td>\n",
       "      <td>http://siuyeo.ng/hkspd202204281303</td>\n",
       "      <td>2022-04-28</td>\n",
       "      <td>13:03:00</td>\n",
       "      <td>港島</td>\n",
       "      <td>南區</td>\n",
       "      <td>鴨脷洲</td>\n",
       "      <td>鴨脷洲徑3號</td>\n",
       "      <td>...</td>\n",
       "      <td>沒有</td>\n",
       "      <td>沒有</td>\n",
       "      <td>沒有</td>\n",
       "      <td>沒有</td>\n",
       "      <td>不詳</td>\n",
       "      <td>NaN</td>\n",
       "      <td>NaN</td>\n",
       "      <td>淹溺</td>\n",
       "      <td>NaN</td>\n",
       "      <td>NaN</td>\n",
       "    </tr>\n",
       "    <tr>\n",
       "      <th>3</th>\n",
       "      <td>2022-04-28</td>\n",
       "      <td>12:55:00</td>\n",
       "      <td>有</td>\n",
       "      <td>http://siuyeo.ng/hkspd202204281213</td>\n",
       "      <td>2022-04-28</td>\n",
       "      <td>12:13:00</td>\n",
       "      <td>九龍</td>\n",
       "      <td>深水埗區</td>\n",
       "      <td>荔枝角</td>\n",
       "      <td>青葵公路</td>\n",
       "      <td>...</td>\n",
       "      <td>沒有</td>\n",
       "      <td>沒有</td>\n",
       "      <td>沒有</td>\n",
       "      <td>沒有</td>\n",
       "      <td>不詳</td>\n",
       "      <td>NaN</td>\n",
       "      <td>NaN</td>\n",
       "      <td>跳落</td>\n",
       "      <td>NaN</td>\n",
       "      <td>NaN</td>\n",
       "    </tr>\n",
       "    <tr>\n",
       "      <th>4</th>\n",
       "      <td>2022-04-26</td>\n",
       "      <td>20:33:00</td>\n",
       "      <td>有</td>\n",
       "      <td>http://siuyeo.ng/hkspd202204262000</td>\n",
       "      <td>2022-04-26</td>\n",
       "      <td>20:00:00</td>\n",
       "      <td>九龍</td>\n",
       "      <td>九龍城區</td>\n",
       "      <td>採石山</td>\n",
       "      <td>德蘭中學</td>\n",
       "      <td>...</td>\n",
       "      <td>沒有</td>\n",
       "      <td>沒有</td>\n",
       "      <td>沒有</td>\n",
       "      <td>沒有</td>\n",
       "      <td>不詳</td>\n",
       "      <td>NaN</td>\n",
       "      <td>NaN</td>\n",
       "      <td>跳落</td>\n",
       "      <td>NaN</td>\n",
       "      <td>NaN</td>\n",
       "    </tr>\n",
       "  </tbody>\n",
       "</table>\n",
       "<p>5 rows × 29 columns</p>\n",
       "</div>"
      ],
      "text/plain": [
       "        建立日期        時間 求助\\n途徑                                來源網址       發現日期  \\\n",
       "0 2022-04-30  09:37:00      有  http://siuyeo.ng/hkspd202204300830 2022-04-30   \n",
       "1 2022-04-29  22:41:00      有  http://siuyeo.ng/hkspd202204291600 2022-04-29   \n",
       "2 2022-04-28  14:46:00      有  http://siuyeo.ng/hkspd202204281303 2022-04-28   \n",
       "3 2022-04-28  12:55:00      有  http://siuyeo.ng/hkspd202204281213 2022-04-28   \n",
       "4 2022-04-26  20:33:00      有  http://siuyeo.ng/hkspd202204262000 2022-04-26   \n",
       "\n",
       "    時間\\n[約]  區域    地區   分區 街道 / 屋邨 / 建築  ... 檢獲\\n遺書  精神\\n病患  情緒\\n病患 失蹤\\n記錄  \\\n",
       "0  08:30:00  九龍  九龍城區   紅磡       紅鸞道38號  ...     沒有      沒有      沒有     沒有   \n",
       "1  16:00:00  新界   荃灣區  梨木樹         梨木樹邨  ...      有      沒有      沒有     沒有   \n",
       "2  13:03:00  港島    南區  鴨脷洲       鴨脷洲徑3號  ...     沒有      沒有      沒有     沒有   \n",
       "3  12:13:00  九龍  深水埗區  荔枝角         青葵公路  ...     沒有      沒有      沒有     沒有   \n",
       "4  20:00:00  九龍  九龍城區  採石山         德蘭中學  ...     沒有      沒有      沒有     沒有   \n",
       "\n",
       "  原因\\n[1] 原因\\n[2] 原因\\n[3] 類別\\n[1] 類別\\n[2] 類別\\n[3]  \n",
       "0      不詳     NaN     NaN      淹溺     NaN     NaN  \n",
       "1      家庭     NaN     NaN      自縊     NaN     NaN  \n",
       "2      不詳     NaN     NaN      淹溺     NaN     NaN  \n",
       "3      不詳     NaN     NaN      跳落     NaN     NaN  \n",
       "4      不詳     NaN     NaN      跳落     NaN     NaN  \n",
       "\n",
       "[5 rows x 29 columns]"
      ]
     },
     "execution_count": 4,
     "metadata": {},
     "output_type": "execute_result"
    }
   ],
   "source": [
    "df.head()"
   ]
  },
  {
   "cell_type": "code",
   "execution_count": 17,
   "id": "b597637f",
   "metadata": {},
   "outputs": [
    {
     "data": {
      "text/plain": [
       "<AxesSubplot:xlabel='房屋類型'>"
      ]
     },
     "execution_count": 17,
     "metadata": {},
     "output_type": "execute_result"
    },
    {
     "data": {
      "image/png": "[encoded data removed]",
      "text/plain": [
       "<Figure size 432x288 with 1 Axes>"
      ]
     },
     "metadata": {
      "needs_background": "light"
     },
     "output_type": "display_data"
    }
   ],
   "source": [
    "plt.rcParams['font.sans-serif'] = ['SimHei']\n",
    "df.groupby(['房屋類型']).size().plot(kind = \"bar\")"
   ]
  },
  {
   "cell_type": "code",
   "execution_count": null,
   "id": "1f8d84f7",
   "metadata": {},
   "outputs": [],
   "source": []
  }
 ],
 "metadata": {
  "kernelspec": {
   "display_name": "Python 3",
   "language": "python",
   "name": "python3"
  },
  "language_info": {
   "codemirror_mode": {
    "name": "ipython",
    "version": 3
   },
   "file_extension": ".py",
   "mimetype": "text/x-python",
   "name": "python",
   "nbconvert_exporter": "python",
   "pygments_lexer": "ipython3",
   "version": "3.8.8"
  }
 },
 "nbformat": 4,
 "nbformat_minor": 5
}
